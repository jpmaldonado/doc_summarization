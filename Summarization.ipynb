{
 "cells": [
  {
   "cell_type": "code",
   "execution_count": 1,
   "id": "21c119a1-7aeb-4e8b-9d54-457e80d9118b",
   "metadata": {},
   "outputs": [],
   "source": [
    "import os\n",
    "import openai\n",
    "from dotenv import load_dotenv\n",
    "\n",
    "load_dotenv()\n",
    "\n",
    "openai.api_key = os.environ[\"OPENAI_API_KEY\"]"
   ]
  },
  {
   "cell_type": "markdown",
   "id": "5f1040c7-fd69-4a0e-bec9-1b89c81a6d10",
   "metadata": {},
   "source": [
    "## Method 1: Using `stuff` chain\n",
    "\n",
    "This is useful for a small number of documents."
   ]
  },
  {
   "cell_type": "code",
   "execution_count": 2,
   "id": "cd7b8a8c-caca-4e49-8752-17a10b9577c6",
   "metadata": {},
   "outputs": [],
   "source": [
    "from langchain.chat_models import ChatOpenAI\n",
    "from langchain.document_loaders import DirectoryLoader\n",
    "from langchain.chains.llm import LLMChain\n",
    "from langchain.prompts import PromptTemplate\n",
    "from langchain.chains.combine_documents.stuff import StuffDocumentsChain"
   ]
  },
  {
   "cell_type": "code",
   "execution_count": 3,
   "id": "1c24fe6c-a2d3-44e6-bf65-f10427c5a4eb",
   "metadata": {},
   "outputs": [
    {
     "name": "stderr",
     "output_type": "stream",
     "text": [
      "100%|████████████████████████████████████████████████████████████████████████████████████| 2/2 [00:07<00:00,  3.77s/it]\n"
     ]
    }
   ],
   "source": [
    "loader = DirectoryLoader('./data/wiki', glob=\"**/*.pdf\", show_progress=True)\n",
    "docs = loader.load()"
   ]
  },
  {
   "cell_type": "code",
   "execution_count": 4,
   "id": "66305c5c-e7a7-4281-9161-fb30b0935762",
   "metadata": {},
   "outputs": [
    {
     "data": {
      "text/plain": [
       "[Document(page_content='Algarve\\n\\nEarth > Europe > Iberia > Portugal > Southern Portugal > Algarve\\n\\nThe Algarve is the southernmost region of Portugal, on the coast of the Atlantic Ocean.\\n\\nRegions\\n\\nBarlavento (Lagos, Silves, Portimão, Lagoa, Albufeira areas) Serra Algarvia (Monchique, Caldeirão) Sotavento (Faro, Loulé, São Brás de Alportel, Olhão, Tavira, Vila Real de Santo António areas)\\n\\nCities\\n\\nFaro — the regional capital Albufeira Lagos Sagres Monchique Paderne Portimão Silves — first capital of the Algarve which has a Moorish castle Tavira — a city near the Ria Formosa (lagoon).\\n\\nOther destinations\\n\\nCastro Marim Quarteira\\n\\nUnderstand\\n\\nThe Algarve is Portugal\\'s most popular holiday destination due to the clean beaches (approximately 200 km of them), the cool, unpolluted water, and the fact that it is relatively cheap, very safe, and overall welcoming. English is spoken at most resorts.\\n\\nThe Algarve is rich in culture and diversity. If you are looking for fast-paced resorts or a calm tranquil setting either is attainable. The entire region is approximately 5400sq km and is graced with over 100 different beaches. Of those 100, 88 beaches are designated as blue flag beaches (https://en.wikipedia.org/wiki/Blue_F lag_beach).\\n\\nIf you are into nature the choices are many from to Monchique mountain, from Caldeirão mountains to the Sagres cape, in fact, there are over 30 hiking trails (as per official Turismo de Portugal guidebooks). There are over 30 the region. courses dotted Although resident the population is under 500,000 the area receives more than tenfold that in tourism each year. The busiest times of the year tend to be July/August.\\n\\nthe Ria Formosa\\n\\nthroughout\\n\\npermanent\\n\\nFalesia Beach\\n\\nHistory\\n\\nFollowing the neolithic period of the approximately region\\'s 1000 BC, settlements and trading ports were established by the Phoenicians who were attracted by deposits of copper, manganese, from and the coastal regions of the eastern of modern-day Mediterranean Syria, Israel, and Lebanon. Circa 550 BC Portimão was one of the ports founded by the Carthaginians who came from North Africa. In the 2nd century, BC the region came under the control of the Romans as they spread throughout the Iberian Peninsular. Many Roman ruins still remain today throughout the Algarve and can be seen in many areas, but the best to visit is probably at the Milreu ruins, 7km from Faro, where buildings that started construction as a Roman villa later became a Christian Church.\\n\\niron. They came\\n\\nhistory,\\n\\nFollowing the Roman Empire, the Visigoths took control of the invasion of the Moors from North Africa in 711 AD. At this time, the Visigoths who came from central Europe were defeated in the Battle of Guadalete by a force of invading Arabs and Berbers.\\n\\nthe collapse of\\n\\nthe Algarve until\\n\\nSecluded beaches bordered by rocks near Albufeira\\n\\nThere followed a period of five centuries of Arab rule in Iberia. The Moors conquered the Algarve in 716. Faro, which had been called Santa Maria, was renamed Faraon, meaning \\'the settlement of the Knights\\'. Even the name of the\\n\\nregion owes its origin to the Moors who knew the region as \\'al-gharb\\' meaning \\'the west\\'. There is evidence of the moors throughout the Algarve and Southern Spain, illustrated by chimney stacks, pottery, and the Moorish style of architecture, particularly, the Arabic castle at app Silves. The castle was built by Almoravid Arabs in the 11th century out of red sandstone and dried mud and is the best preserved Moorish castle in the country. In the 12th Century, King Afonso III, with a little help from English mercenaries, finally evicted the Moors and once again the Portuguese dominated the region, although the area was not fully secure from Moorish attacks until the middle of the 13th century.\\n\\nBorn in Porto in 1394, Prince Henry the Navigator based himself somewhere around Lagos/Sagres, and is considered to be responsible for many of the \\'discoveries\\' made by the Portuguese in the middle ages sending out expeditions to Africa, the islands of Madeira and the Azores. In 1419 he was appointed governor of the province of the Algarve.\\n\\nDisaster struck on 1st November 1755, with a huge earthquake whose epicenter was reported to have been 200km South-West of the country and registering 9 on the Richter Scale. The coastal areas of the Algarve were devastated by the earthquake and subsequent tsunami. The devastation was not only limited to the Algarve, British naval reports from the period indicate the arrival of a huge wave in the port of Lisbon. The damage to Lisbon was almost total, and following huge political turmoil the person responsible for the reconstruction of the city was the Marquis of Pombal, the then Prime Minister.\\n\\nClimate\\n\\nMediterranean.\\n\\nGet in\\n\\nInternational flights into Faro airport (FAO) then (1) by bus: national buses run from outside the airport to the bus terminal regularly time on weekdays or (2) by taxi: which will be under €10 from the airport to the train station.\\n\\nthroughout\\n\\nthe day\\n\\nSpectacular rocks on the beach\\n\\nBy plane\\n\\nFaro Airport [1] (http://www.ana.pt/portal/page/portal/ANA/AEROPORTO_FARO/) is the main airport for the region. On arrival, there is a wide selection of car hire options both at static desks in the airport and also within the terminal at a meeting point. From Faro airport, the train station and bus terminals can be reached by taxi.\\n\\nBy train\\n\\nThere are daily(fast) train connections between Faro and Lisboa (4 hours).\\n\\nBy bus\\n\\nThere are daily bus connections between Lagos, Olhao, Faro (and many other cities), and Spanish cities such as Seville and Huelva. A single ticket to Sevilla - Faro costs €20 and the journey takes 4 to 5 hours.\\n\\nBy boat\\n\\nThere is a ferry service between Vila Real de Santo António and Ayamonte (Spain). The ferry was once a main means of transportation although, after the construction of the Guadiana International Bridge, it is nowadays mostly used by tourists. Naviera Armas [2] (http://www.navieraarmas.com/) operates a ferry to Portimão from Madeira (connecting with Gran Canaria) with a couple of departures per month.\\n\\nGet around\\n\\nTake the train or bus.\\n\\nBy train\\n\\nThe Algarve railway is the most convenient way to get around in Algarve. It connects Lagos in the west with Vila Real de Santo António on the border to Spain, calling at most towns and cities along the way. You will probably need to change the train a few times although there\\'s little waiting time.\\n\\nBy car\\n\\nA car is often the best way of seeing the Algarve, owing to the limited public transport services. Cars can be hired at Faro Airport and in other towns and cities in the Algarve. Most car rental companies will stipulate a minimum age of 21. Prices start from about €30 a day for a small car during the summer but can be as low as €5 a day outside the holiday season. There is often a wide range of cars to choose from. Be sure to have a high enough spending limit on your credit card to have the excess blocked off while you rent, which can easily be over €1000, or else you will have to buy the usually expensive extra insurance from the rental company. Getting third-party excess insurance is often much cheaper, but that will not necessarily persuade the rental company to forgo blocking a large sum on your credit card.\\n\\nThe Algarve has a good network of roads, but be aware that some country roads are little more than dirt tracks. Roads are generally well maintained, however, road markings may randomly disappear (in this case stick to the right as far as possible - a favorite Portuguese habit is to overtake, still they are mindful). After many years,\\n\\nthe A22 (IP 1) motorway was finally completed in 2007, which goes from Bensafrim in the west all the way to Monte Francisco on the Portuguese/Spanish border. The Algarve, like the rest of Portugal and mainland Europe, drives on the right.\\n\\nPetrol stations are found all over the Algarve. All stations will sell standard unleaded (95 RON) and super (97 RON) and diesel. Some stations sell LPG (GPL) as well. Unleaded petrol is known as gasolina sem chumbo and diesel gasoleo. Petrol prices in Portugal are high in comparison to other European countries; as of August 2009 95 RON unleaded costs around €1.33 a liter, 97 RON super €1.47 a liter, and diesel €1.06 a liter.\\n\\nSee\\n\\nLagos - The old inner city inside the remnants of a protective wall. You\\'ll find winding streets barely wide enough for small cars, quaint shops, and wonderful restaurants. Monchique Mountains - a beautiful area covered by eucalyptus forests with a wonderfully fresh smell, and small waterfalls in winter. You will find great hiking trails and unexplored quiet fields. The view from Foia Peak is absolutely amazing, you can see both the south and west coasts and even see the swell! Silves - The red stone castle. The road there is narrow and winds through some rural areas, but it is definitely worth a half-day trip if you like castles.\\n\\nDo\\n\\nThere are many activities to do in the Algarve, such as mountain biking, jeep safaris, and SPA, but the Algarve is mainly strong with maritime tourism, offering beautiful boat trips along the Algarve coast, wild dolphin watching tours, trips to the caves of Ponta da Piedade, Kayak Tours, Diving at the spectacular Ocean Revival Park, Sailing, Windsurf, Surf lessons, Kite Surf, wakeboard or just a fast ride on the ocean. During the cooler winter months, Monchique is a popular destination for walking.\\n\\nBuy\\n\\nPortugal is a large producer of cork and you will find a great number of cork products, such as handbags and wallets,\\n\\nAmazing Rock formations\\n\\nfor sale. Locally produced alcoholic drinks, such as medronho and Amarguinha (an almond liqueur) are always well-received gifts.\\n\\nEat\\n\\nThe Algarve is famous for its hot and spicy Piri Piri Chicken, which can be found all over. It is said to have originated in Guia, a small village near Albufeira. Since it has a big and rich coast, it has a very interesting array of wonderful fish and seafood, to fruit cataplanas, and many dry sweets that will make your mouth water for more. Fish, along with meat, is often grilled and served with a salad and either boiled potatoes or chips (in the case of meats). In August, Portimao celebrates its annual sardines festival and this is one of the best times to try fresh sardines and experience a small Portuguese festival. Javoli (wild boar) and Leitão (suckling pig) are two other dishes worth trying, along with cabrito no forno (goat roasted in the oven). Although originally from Lisbon, Pasteis de Nata are also worth trying and you will find them in every café on the Algarve as well as in the supermarkets.\\n\\nfrom sardines\\n\\nseafood rice\\n\\nDrink\\n\\nMedronho is a traditional fruit brandy, traditionally produced and drunk in The Algarve. Medronho can be fiercely potent and is available in variations ranging from unlabelled local homebrew bottles, moonshine style, to connoisseur tipples at more of a premium price range.\\n\\nPortugal has many wonderful wine regions (Duoro, Dao, and Alentejo are the three most common), and while the Algarve is not traditionally famous for its wine - nationally or internationally - more and more vineyards are starting up and producing good quality wines. Several vineyards also offer tours and tastings, for example, Quinta dos Vales and Quinta do Frances.\\n\\nStay safe\\n\\nAccording to Conde Naste Traveler, Portugal is one of the top ten safest countries in the world to visit. However, as always, you should exercise caution and keep an eye on your valuables.\\n\\nAccording to several retirement publications, including Huffington Post and U.S. News, citing research from publishing group Live and Invest Overseas, the Algarve region was named the world\\'s top retirement destination in 2014, 2015, and 2016.\\n\\nThe reasons cited include excellent health care, a relatively low cost of living compared to other destinations in Europe, and a large number of foreign retirees (currently over 100,000).\\n\\nGet out\\n\\nAlentejo Costa Sudoeste (coast). Huelva province, Spain Mértola Mina de São Domingos Serpa Evora\\n\\nThis article is an outline and needs more content. It has a template, but there is not enough information present. Please plunge forward and help it grow!\\n\\nThis article is an outline and needs more content. It has a template, but there is not enough information present. Please plunge forward and help it grow!\\n\\nWikiPedia:Algarve\\n\\nRetrieved from \"https://wikitravel.org/wiki/en/index.php?title=Algarve&oldid=2749556\"\\n\\nThis page was last edited on 18 April 2023, at 15:57.\\n\\nText is available under [http://wikitravel.org/shared/Copyleft Creative Commons Attribution-ShareAlike 3.0] images are available under [http://wikitravel.org/shared/How_to_re-use_Wikitravel_guides various licenses], see each image for details. This site is owned, operated, and maintained by MH Sub I, LLC dba Internet Brands. Copyright © 2018 MH Sub I, LLC dba Internet Brands.', metadata={'source': 'data\\\\wiki\\\\Algarve - Wikitravel.pdf'}),\n",
       " Document(page_content='Portugal\\n\\nEarth > Europe > Iberia > Portugal\\n\\n(http://www.visitportugal.com) Portugal shares the Iberian peninsula at the south- western tip of Europe with Spain. Geographically and culturally somewhat isolated from its neighbour, Portugal has a rich, unique culture, lively cities and beautiful countryside. Although it was once one of the poorest countries in Western Europe, the end of dictatorship and introduction of Democracy in 1974, as well as its incorporation into the European Union in 1986, has meant significantly increased prosperity. It may now be one of the best value destinations on the Continent. This is because the country offers outstanding landscape diversity, due to its North-South disposition along the western shore of the Iberian peninsula. You can travel in a single day from green mountains in the North, covered with vines and all varieties of rocky mountains, with spectacular slopes and falls to a near-desert landscape in the Alentejo region and finally holidays to destination Algarve. The climate, combined with investments in the golfing infrastructure in recent years, has also turned the country into a golfing haven. Portugal was recently named \"Best Golf Destination 2008\" by readers of Golfers Today, an English publication. Fourteen of Portugal\\'s courses are rated in the top 100 best in Europe. If you want a condensed view of European landscapes, culture and way of life, Portugal might very well fit the bill. As well as sedate golfing, Portugal rivals Ireland for having some of the finest surfing in Europe, its pristine beaches during autumn/winter time attracting surfers with the massive waves rolling off the mighty Atlantic.\\n\\nthe\\n\\nin\\n\\nthe Centre,\\n\\nglamorous\\n\\nbeach\\n\\ntrees\\n\\nto\\n\\nCapital Lisbon Gov e rnme nt Parliamentary Republic Euro (€) Curre ncy 92,090km² Are a water: 620km² land: 91,470km² 10.31 million Portuguese Roman Catholic 84%, Protestant 230V, 50Hz (European plug) Country code +351 Inte rne t TLD .pt Time Zone\\n\\nPopulation Language Re ligion\\n\\nEle ctricity\\n\\nQuick Facts\\n\\nLocation\\n\\nUTC\\n\\nFlag\\n\\nEspecially popular with tourists from Northern European countries such as England, Germany, the Netherlands, Norway and Sweden, Portugal\\'s great draw is the same as it has been for over 40 years, a country blessed with a magnificent coastline,\\n\\nwarm climate and some of the most majestic beaches in the world.\\n\\nUnderstand\\n\\nPortugal is 900 years old, and even though it has a relatively small area, it has played a crucial role in world history. As of today, it is the oldest country in Europe with the same borders. During the 15th and 16th centuries Portugal started a major chapter in world history with the New World Discoveries (\"Descobrimentos\"). It established a sea route to India, and colonized areas in Africa (Angola, Mozambique, Cape Verde...), South America (Brazil), Asia (Macau,...), and Oceania (East-Timor,...) creating an empire. The Portuguese language continues to be the biggest connection between these countries.\\n\\nIn 1910, the Republic was established, abolishing the monarchy. However, this Republic was fragile and a military dictatorship was implemented, which lasted for 46 years, plunging the country into a marked stagnation. In 1974, Portugal became a free democracy, and in 1986 it joined the current European Union, quickly approaching European standards of development.\\n\\nClimate\\n\\nPortugal is one of the warmest European countries. In mainland Portugal, yearly temperature averages are about 15°C (55°F) in the north and 18°C (64°F) in the south. Madeira and Azores have a narrower temperature range as expected given their insularity, with the former having low precipitation in most of the archipelago and the latter being humid and rainy. Spring and Summer months are usually sunny and temperature maximum are very high during July and August, with maximums averaging between 35°C and 40°C (86°F - 95°F) in the interior of the country, 30°C and 35°C in the north. Autumn and Winter are typically rainy and windy, yet sunny days are not rare either. Temperatures rarely fall below 5°C (41°F) nearer to the sea, averaging 10°C (50°F), but can reach several degrees below 0°C (32°F) further inland. Snow is common in winter in the mountainous areas of the north, especially in Serra da Estrela but melts quickly once the season is over. Portugal\\'s climate can be classified as Mediterranean (particularly the southern parts of the Algarve and Alentejo, though technically on Atlantic shore).\\n\\nTime zone\\n\\nPortugal is regulated by the Western European Time Zone (WET), the same time as in the United Kingdom and Ireland. The Azores Islands are one hour less.\\n\\nRegions\\n\\nNorthern Portugal A historic region that is considered the birthplace of the nation. Includes the second largest city, Porto.\\n\\nNorth Central Portugal\\n\\nSouth Central Portugal The capital, Lisbon, Estremadura and the Upper Alentejo.\\n\\nSouthern Portugal The beaches and sun of the Algarve and the laid-back pace of the Lower Alentejo.\\n\\nAzores Islands in the Atlantic Ocean and autonomous region\\n\\nMadeira Archipelago in the Atlantic Ocean and autonomous region\\n\\nCities\\n\\nLisbon - national capital, city of the seven hills. Albufeira - Main tourist destination in the Algarve. Aveiro - the \"Venice\" of Portugal. Braga - city of Archbishops. Coimbra - home of the ninth oldest university in the world. Évora - \"Museum City\", Alentejo regional capital. Faro - The administrative centre of the Algarve. Funchal - the capital of Madeira. Porto - \"Unvanquished City\", along the river Douro and the Atlantic Ocean.\\n\\nRegions of Portugal\\n\\nOther destinations\\n\\nCabo da Roca - the westernmost point of mainland Portugal and European continent, near Cascais Coa Valley a registered World Heritage Site Fátima - Pilgrimage destination.\\n\\nParque Botânico do Monteiro-Mor, Lumiar, Lisboa\\n\\nGuimarães - the founding place of the nation. Óbidos - Roman settlement, located on a hill top Peneda-Gerês National Park Viana do Castelo - Famous for the Nossa Senhora da Agonia Festival.\\n\\nGet in\\n\\nPortugal Agreement.\\n\\nis a member of\\n\\nthe Schengen\\n\\nMinimum validity of travel documents\\n\\nThere are no border controls between countries that have signed and implemented this treaty - the European Union (except Bulgaria, Croatia, Cyprus, the United Kingdom), Iceland, Liechtenstein, Norway and Switzerland. Likewise, a visa granted for any Schengen member is valid in all other countries that have signed and implemented the treaty. But be careful: not all EU members have signed the Schengen treaty, and not all Schengen members are part of the European Union. This means that there may be spot customs checks but no immigration checks (travelling within Schengen but to/from a non-EU country) or you may have to clear immigration but not customs (travelling within the EU but to/from a non- Schengen country).\\n\\nIreland, Romania and\\n\\nEU, EEA and Swiss citizens, as well as non- EU citizens who are visa- exempt (e.g. New Zealanders and Australians), need only produce a passport which is valid for the entirety of their stay in Portugal. Other nationals who are required to have a visa (e.g. South Africans), however, must produce a passport which has at least 3 months\\' validity beyond their period of stay in Portugal.\\n\\nPlease see the article Travel in the Schengen Zone for more information about how the scheme works and what entry requirements are.\\n\\nBy plane\\n\\nAlmost all major airlines fly to Portugal (British Airways, Air France/KLM, Lufthansa, United, American, Turkish, Emirates, Air Canada, Iberia ...), besides the country\\'s own TAP Portugal and SATA/Azores Airlines. In addition, there are some cheap fares to be had from no-frills airlines, like Aer Lingus, Monarch, easyJet, Ryanair and Vueling who are flying to Lisbon (LIS), Porto (OPO) and Faro (FAO) at good the mainland: international prices. There Lisbon/Portela/Humberto Delgado (in the north of the city, and not far from the centre), near Loures; Porto/Pedras Rubras/Sá Carneiro (also north of the city and relatively close to it), in Maia; and Faro, in the Algarve.\\n\\nare\\n\\nthree\\n\\nairports\\n\\nin\\n\\nThe Madeira and Azores international airports, Madeira/Funchal(FNC); Ponta Delgada (PDL)(São Miguel island); Terceira/Lajes (TER). You may also find occasional international flights into other airports, such as Porto Santo (PXO) or Pico (PIX).\\n\\nIslands also have\\n\\nFrom the United States, American Airlines offers flights to Lisbon via Philadelphia (seasonally), SATA International/Azores Airlines from Boston, Oakland and Providence(seasonally) to the Azores continuing on the the mainland, TAP Portugal from Newark, Miami, Chicago, New York and Boston, and United from Newark and Washington. United has recently started flying from Newark to Porto on a daily basis.\\n\\nBy train\\n\\nTrains reach most larger cities from Lisbon to Porto, Braga, Aveiro, Coimbra, Evora, Faro. Lisbon is connected to Madrid, Spain; Porto to VigoSpain; Vilar Formoso to Spain, France and the rest of Europe. In the South it is not possible to enter Portugal from Spain. There are no train connections from i.e. Sevilla to Faro. The only option is to use buses, there are many. For more information, contact: CP [1] (http://www.cp.pt/), Portuguese Railways.\\n\\nBy Taxi\\n\\nCentraldetaxis.pt (http://www.centraldetaxis.pt) is a taxi cab central with national coverage working 24 hours a day You check correct taxi fares here at this taxi fare calculator (http://www.centraldetaxis.pt/main/taxi_calculator) to have an idea of hotel/airport transfers or any other tour you want to make. There\\'s an app for Android to ask a taxi \"just in time\" or book to a later date or you can book it (http://w ww.centraldetaxis.pt). National/International customer support phone numbers are available on the website.\\n\\nBy bus\\n\\nSpain/Portugal: ALSA (http://www2.alsa.es/portal/index.asp?lang=en) and Auto Res (http://www.auto-res.net/index.html) Also from Madrid/Paris: Aníbal (http://www.anibal.eu)\\n\\nBy boat\\n\\nThe country is served by numerous sea ports that receive a lot of foreign traffic, mostly merchant but also passengers boats (mainly cruisers).\\n\\nGet around\\n\\nBy train\\n\\nRail travel in Portugal is usually slightly faster than travel by bus, but services are less frequent and cost more. The immediate areas surrounding Lisbon and Porto are reasonably well-served by suburban rail services.\\n\\nThe rail connections between the main line of Portugal, i.e. between Braga and Faro are good. The Alfa-Pendular (fast) trains are comfortable, first class is excellent. The Alfa-Pendular train stops only at main cities stations and often requires advance reservations,(recommended) between Braga, Porto, Gaia, Aveiro, Coimbra, Lisbon and Faro.\\n\\nIntercity trains will take you to further destinations, specially in the interior, such as Guimarães, Évora, Beja, Covilhã and Guarda.\\n\\nBy bus\\n\\nUnfortunately the rail network is limited, so you may find yourself using buses to get anywhere off the beaten path. Rede Expresso (http://www.rede-expressos.pt) is one of the largest inter-city bus companies.\\n\\nLisbon and Porto, the two largest urban cities, have a clean modern and air- conditioned metro systems (underground/subway and light railway).\\n\\nRoad traffic in Lisbon and Porto is pretty congested all day round and gets completely stuck in the rush hours, at least in the main roads to exit or enter the city. Car travel is the most popular method to reach areas outside the main cities, however (car rental is not too expensive, but the associated insurance is - unless you book the total package abroad). Heed the advice about the quality of some people\\'s driving skills mentioned below.\\n\\nGenerally speaking, Portugal is not a good country for hitchhiking. In the deserted country roads in the South, you might wait for many hours before you are offered a ride. Try to speak with people on gas stations or parking lots, etc. Drivers tend to be suspicious, but when you show them that they should not be afraid, they will probably accept you and mostly also show their generosity. Try to look neat and clean. The hippy style will get you nowhere. As with everywhere in the world, two males hitch-hiking together will take much longer to get a ride.\\n\\nBy car\\n\\nTraffic in Portugal moves on the right-hand side of the road.\\n\\nRoads are generally good, and you can reach all major cities with ease, either by motorway or by good, modern roads. The biggest cities are well served by modern highways (most have tolls), and you can travel the full North-South length of the country without ever leaving the highway, if you choose to.\\n\\nHowever, some secondary roads are ill-treated and may be dangerous if proper care is not taken. Also, Portuguese driving can seem erratic and, frankly, scary to the uninitiated. The country shares with most southern European countries something that the successive Portuguese governments have been trying to fight: terrible road behaviour from some drivers. In order to fight this, road laws changed recently in order to punish with great severity speeding, driving without license, driving under the influence of alcohol or narcotics, etc.\\n\\nThe motorways with the most reckless driving are those 50km around Lisbon or Porto, the A1 and A2 and the Algarve.\\n\\nYou can be on a 2-lane toll highway and be unable to see any other traffic except the car you\\'re overtaking at 30km/h over the speed limit and the car about 2 metres from your back end flashing its headlights to get past you. Merging manners when slip roads come on to fast roads are also pretty poor. On other roads, you\\'ll get used to two classic Portuguese experiences: suicidal overtaking attempts and the resultant absurdly overdone signs indicating when you can and can\\'t overtake - sometimes all of 5 yards apart, and the \"penalty stop\" traffic light as you enter the 50km/h zone in each small town, with camera to decide whether you\\'re over the speed limit. Rather absurdly, once you\\'re through this, your speed isn\\'t checked again.\\n\\nIt is probably unwise for those unfamiliar with Portuguese driving to try to drive in Lisbon or Porto - be aware if you do that city drivers give no quarter and have limited respect for lane markings (where lane markings exists!). If you do want to try, choose a weekend or an hour outside the rush hour periods. These are early mornings (08:00-09:30) and late afternoons (17:00-19:30). Other Portuguese cities are much better, but often have very narrow roads.\\n\\nBy campervan\\n\\nPortugal is home to many campervan rental companies. This is an excellent method of travel with plentiful infrastructure and campsites throughout the country.\\n\\nBy bicycle\\n\\nAlthough car traffic is often unnerving, cyclists can enjoy greater respect on the road than other drivers. There is an increasing number of cyclists and cycle tourists riding into and across Portugal. The mild climate, varied scenery, many small roads and numerous towns and villages make Portugal an ideal destination for bicycle travel.\\n\\nCompanies offering dedicated bicycle touring services in Portugal include Cycling Rentals (Phone: +351 92 213 4857), [2] (http://cycling-rentals.com/)) who offer a good selection of race, touring and mountain bikes available for short term or extended rental and can deliver bikes to your hotel or accommodation.\\n\\nToll highways\\n\\nPortugal has a unified electronic toll paying system - it\\'s usually on the one or two left most lanes of the toll booths, marked with a green \"V\" (Via Verde - \"Green Lane\"). There are a suprising number of tolls to pay if you travel between major cities. Some tolls you can pay to a person in a booth (cash and most debit and credit cards accepted). But DO rent a Vi Verde electronic toll device, presuming you are renting from a car rental agency, as some highways such as those going into Duoro Valley only take Via Verde and have no toll booth where you can pay; if\\n\\nyou go through the Via Verde lane, you have 48 hours to go to a Via Verde office [3] (http://www.viaverde.pt/), phone 707 500 900 (08:30-20:30), and pay the toll without a fine. All the more reason to just rent a Via Verde and save yourself the effort.\\n\\nDrunk driving\\n\\nDrunk driving is a controversial issue and still rather common. The tolerated limit is 0.19 g/L in blood (0.02% BAC); being above this limit is thus illegal and can result in a fine of up to €1250 and licence suspension for one to twelve months. If you are tested and found with between 0.8 and 1.2g/L, the fine may reach €2500 and you\\'ll be facing licence suspension between two months and two years. Driving with levels above 1.2g/L is a criminal offence punished with up to one year in prison and a three year driving ban.\\n\\nTalk\\n\\nThe official language of Portugal is Portuguese. Portuguese is today one of the world\\'s major languages, ranked 6th according to number of native speakers (approximately 240 million). It is the language with the largest number of speakers in South America, spoken by almost all of Brazil\\'s population. It is also the official language in Angola, Mozambique, Cape Verde, São Tomé and Príncipe, Guinea- Bissau, East Timor and Macau.\\n\\nPortuguese is a Romance Language. Although it may be mutually intelligible with Spanish to a wide extent, with about 89% of lexical similarity (both in vocabulary and grammar), it is far from identical. Portuguese are proud people and are uneasy when foreigners from non-Spanish speaking countries speak that language when traveling in Portugal. While many words may be spelled almost the same as in Spanish (or Italian), the pronunciation differs considerably. This is because Portuguese has several sounds not present in those languages. Spanish is widely understood, but it\\'s not always the best language to use unless you\\'re from a Spanish-speaking country. If you do speak Spanish, it won\\'t take long to get to know some Portuguese phrases. The basic ones are not very different from their Spanish equivalents, and as always, the locals are much more welcoming of those tourists that make the extra effort.\\n\\nIt is also worth mentioning that pronunciation in Portugal differs significantly from that in Brazil. The difference is basically in pronunciation and a few vocabulary differences, which make it tricky even for Brazilians to understand the European Portuguese accent, although not vice versa because Brazilian pop culture (soap opera and pop music, for instance) is very popular in Portugal. Nevertheless, the current media has made these difficulties in understanding each other\\'s accent irrelevant.\\n\\nEnglish is spoken in many tourist areas, but it is far from ubiquitous. Portuguese youths are taught the England variety of English in school, and are also exposed to American and English films and television shows with the original English soundtrack and Portuguese subtitles, so while shy, most younger people would have at least a basic grasp of English. To improve your chances of being understood, speak slowly and stick to simple phrases. In fact, you are very likely to\\n\\nfind more English spoken in Portugal than in Spain or France. In the main tourist areas you will almost always find someone who can speak the main European languages. Hotel personnel are required to speak English, even if sketchily. French has almost disappeared as a second language, except possibly among older people. German or Italian speakers are rare. Approximately 32% of Portuguese people can speak and understand English, while 24% can speak and understand French. Despite Spanish being mutually intelligible in a sense that most Portuguese understand it written and/or spoken, only 9% of the Portuguese population can speak it fluently. Outside these areas Spanish is generally nonexistent, so take a phrase book and be prepared for slow communication with a lot of interpretive gestures.\\n\\nPortuguese people are of generally excellent humour when they are talking with someone who cannot speak their language. This means that all types of shop owners, sales-folk, and people curious about you will take time to try to carve out any means of communication, often with funny and unexpected results. Helping a foreigner is considered a pleasant and rewarding occasion and experience. If you attempt to speak correct Portuguese, especially if slightly beyond the trivial, with locals, you will be treated with respect and often the locals will apologize for how \"difficult\" it is to learn Portuguese, or how \"hard\" the language is, and will almost adopt you. This might encourage travellers to learn the very basics of Portuguese, such as daily greetings and the routine \"please-thank you\" exchanges.\\n\\nIn Miranda do Douro, a town in the North East, and its vicinity some people speak a regional language called Mirandese, in addition to Portuguese, although rarely in front of people they do not know.\\n\\nForeign television programmes are almost always shown in their original language with subtitles. Only children\\'s programmes are dubbed into Portuguese.\\n\\nSee also Portuguese phrasebook and European Portuguese phrasebook.\\n\\nSee\\n\\nIf you are into visiting beautiful monuments and enjoy remarkable views, then Lisbon, Sintra, and Porto are the top three places, and all of them are well worth a visit. But don\\'t overlook Viana do Castelo, Braga, Guimarães, Coimbra, Tomar, Aveiro, Amarante, Bragança, Chaves, Lamego, Viseu, Vila Real, Lagos, Silves, Évora, Angra as they also have wonderful monuments and places of interest. Although in Portugal most of the monuments in existence are somewhat neglected from a tourist point of view, one can easily find very old romanic churches, some with almost 900 years and still quite unchanged from that time. Old monasteries like Alcobaça or luxurious palaces like Mafra (one of the biggest palaces in Europe) or Queluz are not to be missed either. In most of these places you will have no queues.\\n\\nThe most popular beaches are in the Algarve, which has stunning coastlines and gobs of natural beauty. The water along the southern coast tends to be warmer and calmer than the water along the west coast, which is definitely Atlantic and doesn\\'t benefit of the Gulf Stream. For surfing, or just playing in the surf there are great beaches all along the west coast, near Lisbon and Peniche. Don\\'t forget also some of the almost deserted beaches along the Costa Vicentina, in Alentejo.\\n\\nFor nightlife Lisbon, Porto and Albufeira, Algarve are the best choices as you have major places of entertainment.\\n\\nIf you want to spend your holidays in the countryside, you might want to visit Viana do Castelo, Chaves, Miranda do Douro, Douro Valley, Lamego, Tomar, Leiria, Castelo Branco, Guarda, Portalegre, Évora, Elvas or even Viseu.\\n\\nAnd even if you wish to observe wild life in its natural state, Madeira and Azores Islands are places to remember, not forgetting of course the Natural Reserve of Peneda-Gerês, the Douro Valley and Serra da Estrela.\\n\\nDo\\n\\nBeaches: surrounded by sea in almost its entirety, the Portuguese beaches are well worth visiting. A lot of activities are offered, from surfing, to kite-surfing, and during the summer months the most frequented beaches offer sand based activities such as aerobics. If you\\'re not the type of breaking into a sweat during holidays, almost every single public beach will have a bar where locals sit. Some of the most popular beaches are (from north to south):\\n\\nEspinho, near Oporto, in Costa Verde/Green Coast, northern region. Figueira da Foz, near Coimbra, in Silver Coast/Costa de Prata, central region. Peniche Praia das Maçãs and Praia Grande[Sintra], Carcavelos and Estoril[Cascais], near Lisbon, in the Costa de Lisboa. Zambujeira do Mar, in the Alentejo region/Costa Alentejana e Vicentina. Salema, Praia da Rocha, Praia da Oura, Praia dos Pescadores (Fisherman´s beach), Praia de São Rafael, Praia do Castelo in the Algarve.\\n\\nGolf: The climate, combined with investments in the golfing infrastructure in recent years, has turned the country into a golfing haven. Portugal was recently named \"Best Golf Destination 2012\" by readers of Golfers Today, an English publication. Fourteen of Portugal\\'s courses are rated in the top 100 best in Europe. Portugal is also a great location to learn the game and perfect technique. Many resorts offer classes with the pros. Courses can satisfy the most demanding golfer, while newcomers won\\'t be intimidated, unless they find the beautiful landscapes and stunning vistas distracting to their game. Locals have mixed feelings about golf courses, namely due to the huge amounts of water required to maintain them and their apparent pointlessness.\\n\\nThe countryside also offers a great number of possibilities, although you will have to incite the travel agent\\'s advice a little more than usual, as they tend to just sell beach holidays.\\n\\nCycling through the mountainous terrain of Geres or white-water rafting in the tributaries of the river Douro is an exhilarating experience.\\n\\nPortugal - Surf Mecca of Europe\\n\\nSituated on the south-western corner of Europe, and facing westwards into the awesome power of the Atlantic, and with it\\'s unpolluted, pristine waters free of industrial charge, Portugal is frequently cited as THE surfing capital of Europe, rivalled only by Ireland. Just about anywhere on it\\'s seaboard during the autumn and winter picks up a generous Atlantic swell, which combined with tides and unique underwater gorges produces some truly monster waves. Nazare situated northwards of Lisbon has become legendary for it\\'s gigantic rollers, with professional surf dude Garrett McNamara hitched a ride on 80 foot rollers - a world record. Nazare is unique that a geological quirk with it\\'s underwater gorge produces a funnelling effect which increases the size of the waves considerably. As well as Nazare, other renowned spots include Peniche just outside Lisbon, Sagres situated near mainland Europe\\'s most southwestern tip, and Espinho. Be warned however - surfing in Portugal during winter is not for amateurs, as the incredible power of the Atlantic makes even trying to stay upright a struggle even for seasoned professionals - but without doubt it the Estoril coast, Nazare and Algarve are some of the finest spots in the world to hitch a ride on the big rollers!\\n\\nEvents\\n\\nThere are several Fairs, specially in the Summer months, particularly in Northern Portugal. During the summer, music festivals are also very common. In the north of the country two of the oldest festivals such as Paredes de Coura and Vilar de Mouros. The regions chosen for the festivals are most of the time surrounded by beautiful landscapes and pleasant villages. In the south, the most famous one is Festival do Sudoeste, in the west part of the south cost with a summer landscape and never ending beaches.\\n\\nMajor events of the year are listed at the tourist board\\'s official site.\\n\\nThere are also many music festivals, you can check their dates in Music Festival Circuit site in Portugal section.\\n\\nBuy\\n\\nCurrency, ATMs, exchange\\n\\nPortugal has the euro (€) as its sole currency along with 24 other countries that use this common European money. These 24 countries are: Austria, Belgium, Cyprus, Estonia, Finland, France, Germany, Greece, Ireland, Italy, Latvia, Lithuania, Luxembourg, Malta, the Netherlands, Portugal, Slovakia, Slovenia and Spain (official euro members which are all European Union member states) as well as Andorra, Kosovo, Monaco, Montenegro, San Marino and the Vatican which use it without having a say in eurozone affairs and without being European Union members. Together, these countries have a population of more than 330 million.\\n\\nOne euro is divided into 100 cents. While each official euro member (as well as Monaco, San Marino and Vatican) issues its own coins with a unique obverse, the reverse, as well as all bank notes, look the same throughout the eurozone. Every coin is legal tender in any of the eurozone countries.\\n\\nATMs accepting international cards can be found everywhere, and currency conversion booths spring up wherever there is a steady flow of tourists (although the closer they are to tourist attractions, the worse the rates they offer).\\n\\nCredit cards\\n\\nTo make a payment with a credit card, you are frequently presented a Chip and PIN device where you should confirm the amount and enter your PIN. This has become standard practice in the majority of Europe. This method tends to be safer as the card doesn\\'t go out of your sight and there\\'s less chance of fraud. Many smaller establishments, whilst accepting Portuguese Multibanco cards, are unable to accept international credit and debit cards. Look for the logo of your payment provider (like Visa or Mastercard) on the stores or ask the cashier if they accept international cards. Most of those stores accept payments with contactless and Apple Pay. Some stores also have a minimum amount required for payment with cards. Always have cash to spare just in case.\\n\\nHaggling\\n\\nIn smaller (non-high-street) shops you can try some haggling, especially if you offer to buy multiple items. You might want to check your change, though: although not a widespread practice, some shopkeepers might \"accidentally\" overcharge tourists.\\n\\nTipping\\n\\nTipping in restaurants is optional. Waiters earn wages in Portugal and a \\'tip\\' is considered a note of appreciation, not a means to make up for a tiny salary - if you are not too happy with the service, don\\'t tip. Keep in mind that whilst tipping, most people in Portugal would just round up the total bill to the next euro. Even in expensive restaurants more than 2 to 3 euro would be hardly justified.\\n\\nTipping taxi drivers and daily tips for hotel staff are not customary in Portugal.\\n\\nWhat to buy\\n\\nDesigner clothes Although not widely known internationally, Portugal has several independent fashion designers. The list includes: Fátima Lopes [4] (http://www.fati ma-lopes.com/), Maria Gambina. Some of them have dedicated shops in Lisbon. There is an amazing number of other things you can buy, either at sophisticated commercial facilities or at fairs and more popular places. Handicraft is a good example. Handmade leather purses or clothes, toys, home utensils, glass items, decoration, etc. You can find them at popular tourist places or at better prices in\\n\\nfairs and popular parties in small towns. Almost all major brands can be bought in major cities, all luxury articles are available, but there is not a clear advantage in buying them here as prices are equivalent to all other places.\\n\\nRegional specials Dolls in Nazaré, also the Galo de Barcelos (https://en.wikipedi a.org/wiki/Cock_of_Barcelos).\\n\\nCork products Being one of the top world exporters of cork, design products made using cork are becoming quite popular. Stores such as Cork and Company (http://www.corkandcompany.pt/) in Bairro Alto offer such products.\\n\\nEat\\n\\nThis is potentially the most varied experience to have in the country and is clearly a favourite local hobby.\\n\\nPortuguese cuisine evolved from hearty peasant food drawn from the land, the seafood of the country\\'s abundant coast and the cows, pigs and goats raised on the limited grazing land of its interior. From these humble origins, spices brought back to the country during the exploration and colonisation of the East Indies and the Far East helped shape what is regarded as \\'typical\\' Portuguese cuisine which, conversely, also helped shape the cuisine in the regions under Portuguese influence, from Cape Verde to Japan.\\n\\nSeafood in Portugal\\n\\nSoup is the essential first course of any Portuguese meal. The most popular is the Minho speciality, caldo verde, made from kale, potatoes and spiced, smoked sausage. It\\'s here in the Minho that you can sample the best vinho verde, which rarely is bottled. In many places, especially near the seashore, you can have a delightful and always varied fish soup, sometimes so thick it has to be eaten with the help of a fork.\\n\\nYou will see another Portuguese staple bacalhau (salt cod) everywhere. Locals will tell you that there 1001 ways to cook it.\\n\\nThe most common of Portugal\\'s delicious fish (peixe) dishes revolve around sole (linguado) and sardines (sardinha) although salmon (salmão) and trout (truta) are also featured heavily, not mentioning the more traditional mackerel (carapau), whiting (pescada), rock bass (robalo), frog fish (tamboril) and a variety of turbot (cherne). These are boiled, fried, grilled or served in a variety of sauces.\\n\\nThere are many varieties of rice-based specialties, such as frog fish rice, octopus rice, duck rice and seafood rice.\\n\\nIn most places you will easily find fresh seafood: lobster (lagosta), lavagante, mussel (mexilhão), oysters (ostras), clam (amêijoas), goose barnacle (perceves).\\n\\nDepending on how tourist orientated the area you are in, you\\'ll see grills, thick with the smoke of charring meat, in front of many restaurants during your stay. Other than traditional sardines, Portuguese grilled chicken -- marinated in chilli, garlic and olive oil -- is world famous, although people tired of tasteless industrial poultry farm produce might opt for a tasty veal cutlet (costeleta de novilho) instead, or simply grilled pork.\\n\\nIn the North, you can find many manners of kid, and in the Alentejo, lamb ensopado and many types of pork meat, including the tastier black pork; the best considered parts of pork being the secretos and the plumas. In the Alentejo, you are likely to be served pork instead of veal if you ask for the ubiquitous bitoque (small fried beef, fried potatoes, egg). A widely found traditional dish is pork and clam, Carne de Porco à Alentejana, as well as fried, bread-covered cuttlefish slices (tiras de choco frito). Sometimes you can also find wild boar dishes.\\n\\nDefinitely a major specialty is Mealhada\\'s (near Coimbra) suckling pig roast (leitão) with the local sparkling wine and bread. Much like the pastel de nata, you shouldn\\'t miss it.\\n\\nVegetarians may have a tough time of it in Portugal, at least in traditional Portuguese restaurants. In most restaurants, vegetables (usually boiled or fried potatoes) are simply a garnish to the main meat dish. Even \\'vegetarian\\' salads and dishes may just substitute tuna (which locals don\\'t seem to regard as a \\'meat\\') for ham or sausage. Usually, a salad is just lettuce and tomato with salt, vinegar and olive oil. However, the Portuguese really like their choose-5-items salad bars, and restaurants serving Indian, Chinese, Mexican, or Italian fare can be found in most cities. At any rate, just mention you\\'re vegetarian, and something can be found that meets your preference although in the long run you might be unable to thrive on it.\\n\\nIn many Portuguese restaurants, if you order a salad it will come sprinkled with salt - if you are watching your salt intake, or just do not like this idea, you can ask for it \"sem sal\" (without salt) or more radically \"sem tempero\" (no conditioning).\\n\\nA few restaurants, particularly in non-tourist areas, do not have a menu; you have to go in and ask and they will list a few items for you to choose from. It is wise to get the price written down when you do this so as to avoid any nasty surprises when the bill comes. However, in this type of restaurants, the price for each one of the options is very similar, varying around from €5 to €10 per person.\\n\\nMost restaurants bring you a selection of snacks at the start of your meal - bread, butter, cheese, olives and other small bites - invariably there is a cover charge on these items, around €5. Do not be afraid to ask how much the cover charge is, and get them to take the items away if it is too much or if you are not planning to eat as much. It can be quite reasonable, but occasionally you will get ripped off. If you send them away, still, you should check your bill at the end. Better restaurants can bring you more surprising, nicely prepared and delicious small dishes and bites and\\n\\ncharge you more than €5 for each of them; you can usually choose those you want or want not, as in these cases the list is longer; and if the price is this high and you make an acceptable expense, opt for not ordering a main course.\\n\\nIf you have kitchen facilities, Portuguese grocery stores are surprisingly well- stocked with items such as lentils, veggie burgers, couscous, and inexpensive fruits, vegetables, and cheeses. If you like hard cheese, try \"Queijo da Serra\", if you prefer soft cheese,try requeijao. Unfortunately, the success of the \"Queijo da Serra\" also allowed the proliferation of industrial and taste-devoid varieties, unrelated to the real thing. On larger shops mostly found in the principal cities, you can also find many unusual items such as exotic fruits or drinks.\\n\\nIn some grocery stores and most supermarkets the scales are in the produce section, not at the checkout. If you don\\'t weigh your produce and go to the checkout, you will probably be told Tem de os pesar or Tem de pesar,\"tem de ser pesado\" (\"You have to weigh them\"/it(they) must be weighed).\\n\\nPortugal is famous for its wide variety of amazing pastries, or pastéis(singular: pastel). The best-loved pastry, pastéis de nata (called just natas further north), is a flaky pastry with custard filling topped with powdered sugar (açúcar) and cinnamon (canela). Make sure you try them, in any \"pastelaria\". The best place is still the old Confeitaria dos \\'Pastéis de Belém\\' in Belém, although most \"pastelarias\" make a point of excelling at their \"pastéis\". For once, all the guide books are right. You may have to queue for a short time, but it\\'ll be worth it. Some people like them piping hot and some don\\'t.\\n\\nAlso nice, if dryish, are the bolo de arroz (literally, \"rice cake\") and the orange or carrot cakes.\\n\\nFrom the more egg-oriented North to almond-ruled South, Portuguese pastry and sweet desserts are excellent and often surprising, even after many years.\\n\\nOn October/November, roasted chestnuts (castanhas) are sold on the streets of cities from vendors sporting fingerless gloves tending their motorcycle driven stoves: a treat!\\n\\nThe Portuguese love madly their thick, black expresso coffee (bica), and miss it sorely when abroad.\\n\\nSpecials found in individual regions\\n\\nLisbon and Portugal in general: Pastéis de Belém Sintra: queijadas de Sintra or the travesseiros Mafra: specialty bread, Pão de Mafra Mafra: special cake from the town: \"Fradinhos\" Porto: sandwich in a sauce with fries: \"Francesinha\"\\n\\nDrink\\n\\nWhen travelling in Portugal, the drink of choice is wine. Red wine is the favourite among the locals, but white wine is also popular. Also Portugal along with Spain have a variation of the white wine that is actually green (Vinho Verde). Its a very crisp wine served cold and goes best with many of the fish dishes. Drinking wine during a meal is very common in Portugal, and also after the meal is finished people will tend to drink and talk while letting their food digest. (Don\\'t let yourself be bullied into drinking if you\\'re driving, though!)\\n\\nPort wine may be an aperitif or dessert. Alentejo wine may not be worldwide known as Porto, but is quite as good. Portugal as also other defined wine regions (regiões vinhateiras) which make also some of the very best of wines like Madeira, Sado or Douro.\\n\\nDrinks\\n\\nFolks might find it a bit difficult to refrain from drinking, even if there are very good reasons to do so (such as the above mentioned driving). Nowadays the \"I have to drive\" excuse works ok. The easiest way is to explain that one can\\'t for health reasons. The Portuguese aren\\'t as easily insulted as others when it comes to refusing the obvious hospitality of a drink, but a lie such as \"I\\'m allergic\" might make clear a situation where one would have to otherwise repeatedly explain a preference in some regions of Portugal; but it won\\'t work in other regions where obviously made-up excuses will tag you as unreliable (\"I don\\'t want to, thanks\" might then work). Drinking is considered almost socially intimate.\\n\\nBe careful of 1920 and Agua Ardente (burning water), both pack a mighty punch.\\n\\nPortugal is well known as the home of Port wines.\\n\\nThe legal drinking age in Portugal is, since 2015, 18 years old.\\n\\nPort Wine\\n\\nPorto is famous for the eponymous port wine, a fortified wine (20%) made by adding brandy to the wine before fermentation is complete. According to EU laws, port wine can only be named as such if the grapes are grown in the Douro valley, and the wine is brewed in Porto. The end product is strong, sweet, complex in taste and if properly stored will last 40 years or more.\\n\\nThere are many, many grades of port, but the basic varieties are:\\n\\nVintage, the real deal, kept in the bottle for 5-15 years, can be very expensive for good years. It is, nevertheless, worth it.\\n\\nLate-Bottled Vintage (LBV), simulated vintage kept in barrel longer, ready to drink. Nice if you are on a budget.\\n\\nTawny, aged for 10-40 years before bottling, which distinguishes itself by a more brownish red color and a slightly smoother bouquet and flavour. As with any wine, the older it gets, the more rounded and refined it will be. Ruby, the youngest and cheapest, with a deep red \"ruby\" color.\\n\\nA glass of tawny port wine\\n\\nWhite port is a not-so-well-known variety, and it is a shame. You will find a sweet and a dry varietal, the latter of which mixes well with tonic water and should be served chilled (if drunk alone) or with lots of ice (with tonic), commonly used as an aperitif.\\n\\nVinho Verde\\n\\nAnother good choice is the ubiquitous vinho verde (green wine), which is made mostly in the region to the north of Porto (the Minho.) It\\'s a light, dry and refreshing wine (approx. 9% -9.5% in volume), made from region specific grapes with relatively low sugar content. Mostly white, and sometimes slightly sparkling. Very nice, and very affordable.\\n\\nSleep\\n\\nThe youth hostel network has a great number of hostels around the country [5] (htt p://juventude.gov.pt/Portal/Lazer/en/). There are also many camping places. \\'Wild camping\\' (camping outside camping parks) is not allowed, unless you have the land owner\\'s agreement. It is legal to sleep in a car (such as a campervan) also outside of camping places.\\n\\nThere\\'s a wide and abundant hotel offering all through Portugal.\\n\\nIf budget is a concern, and you want a true \\'typical-Portuguese\\' experience, gather your courage and try one Residencial, the home-like hostels ubiquitous in cities and most towns. In most places you can get a double room for €25-35 (Oct 2006). Be sure, however, of the quality of the rooms.\\n\\nOn the luxury side, you might try the \\'Pousadas (https://www.pousadas.pt) de Portugal\\', a network of hotels managed by the Pestana Group remarkable for using very beautiful ancient buildings like Palaces and Castles and also for having\\n\\nexcellent service, consistent all over the country. You will do well in eating out eventually, as the cuisine of Pousadas is frequently both expensive and boring, although it appears the trend is changing for the better (mid-2008).\\n\\nThe new serviced apartments approach has also been a very popular demand and Portugal is home to several high-standard premium apartments.\\n\\nThe \"Casas de Campo\" (Turismo de Habitação, Turismo Rural, Agro-Turismo), when traveling through the countryside, are also an affordable, picturesque and comfortable B&Bs. Don\\'t expect them to be open all year round, and try to contact them beforehand if your itinerary depends on them.\\n\\nIf you\\'re passionate about genuine travel, experiencing a new culture, diving deep into nature and looking for adventures the best choice will be renting a campervan from \"Soul Campers\", in The Algarve. They offer a personalized service besides a comfy, practical and fully equipped van.\\n\\nRegardless of the chosen options rest assure Portugal has wonderful, high- standard accommodation options for all purses and needs.\\n\\nStay safe\\n\\nPortugal is a safe country to visit, and some basic common sense will go a long way. There are no internal conflicts, no terrorism-related danger and violent crime is not a serious problem, as it is generally confined to particular neighbourhoods and is rarely a random crime. Also, there is a refreshing lack of boozy stupidity at the weekends, despite the profusion of bars open to all hours in the major cities.\\n\\nThere are, however, some areas of Lisbon and Porto that you might want to avoid, like in any big city, especially at night. Also, you might want to have in mind that pickpockets do tend to target tourists and tourist-frequented areas more frequently. Wear a money belt or keep your documents and money in an inside pocket. Metro and large rail stations, shopping areas, queues and crowded buses are the most usual places for pickpockets. Many are under 18 and take advantage of the non- harsh laws on minors. If you try to run them down, a fight may be necessary to get your items back.\\n\\nOn the subway or on trains try to sit with other people and avoid empty carriages. Non-violent pickpocket is the most common crime so always watch any bags (purses, luggage, shopping bags, etc.) you may have with you. A voice message reminding that is played in most of the metro and train stations.\\n\\nIllicit drug use\\n\\nA nationwide law in Portugal took effect that decriminalized the recreational use of drugs. Note that drug possession for personal use and drug usage itself are still legally prohibited, but violations of those prohibitions are deemed to be exclusively administrative violations and are removed completely from the criminal realm. Drug trafficking continues to be prosecuted as a criminal offense.\\n\\nDriving while impaired by drugs is a criminal code offense and is treated in the same way as driving under the influence of alcohol, with severe penalties.\\n\\nStay healthy\\n\\nMajor cities are well served with medical and emergency facilities and public hospitals are at European standards. This means that in smaller towns there are smaller hospitals or Health Centers, and that in the event of a major illness or trauma the patient will be directed to other larger and differentiated hospitals. In the Algarve area, the main hospital in Faro may suffer from a very large rise in the number of patients attending it, as the populations there is roughly three times larger during summer months. The national emergency number is 112.\\n\\nBottled/spring water (água mineral) is recommended as per use but the network\\'s water is perfectly safe.\\n\\nCitizens of the European Union are covered by Portugal\\'s National Healthcare System as long as they carry the free European Health Insurance Card (EHIC), obtainable from their own national healthcare authority.\\n\\nPrivate insurance may also be used in private hospitals with emergency departments, which nowadays are present in almost all major cities. Be aware though, that any major condition will probably require a public hospital to be solved, and that when the the National Medical Emergency Institute (INEM - yellow ambulances, cars, motos and helicopters) is called in such situations, you don\\'t get to choose where you\\'re going; in fact, depending on the disease or trauma, you will be subject to a first medical observation and emergency care and then carried to the most suitable facility, and that can be very far from where you are.\\n\\nRespect\\n\\nPortuguese people feel a sincere happiness when helping tourists so don\\'t feel ashamed to ask for help. If you make an effort to speak some Portuguese with the people there, it can go a long way. A large percentage of the younger population speak English and many Portuguese understand basic Spanish. Although Portuguese people will understand some basic Spanish vocabulary, try to use it only in emergencies, since it is generally seen as disrespectful if you are a non- Spanish native yourself. If used be prepared to be hear something like \"In Portugal people speak Portuguese, not Spanish\" or they will simply reply that they don\\'t understand you even if they do. Most probably they will not say anything and will still help you, but they will not like it inside. This is due to historical rivalry between Spain and Portugal. It is best to speak in English or your native language with the resource of hand signs or at the very least starting a conversation with Portuguese, then switching to English can be a successful technique to obtain this type of help.\\n\\nAlthough not strict, when visiting churches or other religious monuments, try to wear appropriate clothes. That means that shoulders and knees should be covered.\\n\\nSmoking in public enclosed places (taxis and transport, shops and malls, cafés and hotels, etc.) is not allowed and is subject to a fine, unless in places showing the appropriate blue sign.\\n\\nIt is not unusual for women to sunbathe topless in the beaches of Portugal, and there are several naturist beaches too. Thong bikinis are acceptable throughout the country\\'s beaches.\\n\\nThere are no serious political or social issues to be avoided.\\n\\nAlthough a Catholic country (almost 90% of Portuguese consider themselves to be Catholic) only as much as 19% practice this faith (known as Lapsed Catholic). As a result when discussing religion with a Portuguese don\\'t expect much knowledge about church practices or support towards some of their beliefs and opinions (e.g. Use of condoms, abortion, homosexuality, euthanasia, etc). In Portugal religion is not seen as a valid argument when discussing politics. As such abortion in Portugal was legalized in 2007 and same sex marriage in 2010.\\n\\nPortugal in general is a gay friendly country, but don\\'t expect the same openness in rural and small places that you get in the bigger cities like Lisbon or Porto. Public display of affection between gay couples can be seen as a curiosity, and in some cases as inappropriate depending on the place and the kind of display. Gays and lesbians in Lisbon are respected as the city itself has a big gay scene with lots of bars, night clubs, restaurants, cafes, saunas and beaches. Most of the “gay-friendly” places are located in the quarters of Bairro Alto, Chiado and Princípe Real.\\n\\nSince September 2007, the age of consent laws in Portugal states 14 years old, regardless of sexual behavior, gender and/or sexual orientation. Although the age of consent is stipulated at 14, the legality of a sexual act with a minor between 14 and 16 it is open to legal interpretation since the law states that is illegal to perform a sexual act with an adolescent between 14 and 16 years old \"by taking advantage of their inexperience\".\\n\\nSome cities in Portugal still stage bullfighting events. In Portugal it is illegal, contrary to what happens in Spain, to kill the bull during the bullfight. However, it is totally wrong to assume that all Portuguese people support or even faintly like bullfights. Many Portuguese are indifferent to bullfighting or are offended by acts of cruelty. You might also end up offending someone if you make generalizations or insist that bullfighting is part of today\\'s Portuguese culture. The Municipality of Barrancos (border town with Spain) actively defy the law and law enforcement agents and kill the bull in the arena.\\n\\nContrary to what many think Portuguese language does not descend from Spanish.\\n\\nThis article is an outline and needs more content. It has a template, but there is not\\n\\nenough information present. Please plunge forward and help it grow!\\n\\nwts:Category:Portugal\\n\\nWikiPedia:Portugal World66:europe/portugal\\n\\nRetrieved from \"https://wikitravel.org/wiki/en/index.php?title=Portugal&oldid=2751567\"\\n\\nThis page was last edited on 27 May 2023, at 12:03.\\n\\nText is available under [http://wikitravel.org/shared/Copyleft Creative Commons Attribution-ShareAlike 3.0] images are available under [http://wikitravel.org/shared/How_to_re-use_Wikitravel_guides various licenses], see each image for details. This site is owned, operated, and maintained by MH Sub I, LLC dba Internet Brands. Copyright © 2018 MH Sub I, LLC dba Internet Brands.', metadata={'source': 'data\\\\wiki\\\\Portugal - Wikitravel.pdf'})]"
      ]
     },
     "execution_count": 4,
     "metadata": {},
     "output_type": "execute_result"
    }
   ],
   "source": [
    "docs"
   ]
  },
  {
   "cell_type": "code",
   "execution_count": 5,
   "id": "b5bcf584-de5a-45d2-9637-e248d0e79d2c",
   "metadata": {},
   "outputs": [
    {
     "name": "stderr",
     "output_type": "stream",
     "text": [
      "100%|████████████████████████████████████████████████████████████████████████████████████| 2/2 [00:05<00:00,  2.94s/it]\n"
     ]
    },
    {
     "name": "stdout",
     "output_type": "stream",
     "text": [
      "Algarve je nejjižnější region Portugalska na pobřeží Atlantského oceánu. Je oblíbenou turistickou destinací díky čistým plážím, teplému moři a příznivým cenám. Region je bohatý na kulturu a rozmanitost, nabízí různé aktivity jako turistiku, surfování a golf. V Algarve se nachází také několik historických měst, jako je Faro, Lagos a Tavira. Kromě toho je region známý svými výbornými vínem a mořskými plody.\n"
     ]
    }
   ],
   "source": [
    "\n",
    "# Define prompt\n",
    "prompt_template = \"\"\"Write a concise summary in Czech language of the following:\n",
    "\"{text}\"\n",
    "CONCISE SUMMARY:\"\"\"\n",
    "prompt = PromptTemplate.from_template(prompt_template)\n",
    "\n",
    "# Define LLM chain\n",
    "llm = ChatOpenAI(temperature=0, model_name=\"gpt-3.5-turbo-16k\")\n",
    "llm_chain = LLMChain(llm=llm, prompt=prompt)\n",
    "\n",
    "# Define StuffDocumentsChain\n",
    "stuff_chain = StuffDocumentsChain(\n",
    "    llm_chain=llm_chain, document_variable_name=\"text\"\n",
    ")\n",
    "\n",
    "docs = loader.load()\n",
    "print(stuff_chain.run(docs))"
   ]
  },
  {
   "cell_type": "markdown",
   "id": "b08980fe-e361-4a33-af0f-42575fcfad9f",
   "metadata": {},
   "source": [
    "## Method 2: Using `MapReduce` chain\n",
    "\n",
    "This is useful for summarizing documents independently."
   ]
  },
  {
   "cell_type": "code",
   "execution_count": 6,
   "id": "599ee6e9-af09-4614-a7e9-1f3e597be9c9",
   "metadata": {},
   "outputs": [],
   "source": [
    "from langchain.chains.mapreduce import MapReduceChain\n",
    "from langchain.text_splitter import CharacterTextSplitter\n",
    "from langchain.chains import ReduceDocumentsChain, MapReduceDocumentsChain\n",
    "\n",
    "llm = ChatOpenAI(temperature=0)\n",
    "\n",
    "# Map\n",
    "map_template = \"\"\"The following is a set of documents\n",
    "{docs}\n",
    "Based on this list of docs, please identify the main themes \n",
    "Helpful Answer:\"\"\"\n",
    "map_prompt = PromptTemplate.from_template(map_template)\n",
    "map_chain = LLMChain(llm=llm, prompt=map_prompt)"
   ]
  },
  {
   "cell_type": "code",
   "execution_count": 7,
   "id": "4f8ff4bf-c0ea-4f3e-9bce-d20b0e2a6e1f",
   "metadata": {},
   "outputs": [],
   "source": [
    "# Reduce\n",
    "reduce_template = \"\"\"The following is set of summaries:\n",
    "{doc_summaries}\n",
    "Take these and distill it into a final, consolidated summary of the main themes. \n",
    "Helpful Answer:\"\"\"\n",
    "reduce_prompt = PromptTemplate.from_template(reduce_template)\n",
    "reduce_chain = LLMChain(llm=llm, prompt=reduce_prompt)\n",
    "\n",
    "# Takes a list of documents, combines them into a single string, and passes this to an LLMChain\n",
    "combine_documents_chain = StuffDocumentsChain(\n",
    "    llm_chain=reduce_chain, document_variable_name=\"doc_summaries\"\n",
    ")\n",
    "\n",
    "# Combines and iteravely reduces the mapped documents\n",
    "reduce_documents_chain = ReduceDocumentsChain(\n",
    "    # This is final chain that is called.\n",
    "    combine_documents_chain=combine_documents_chain,\n",
    "    # If documents exceed context for `StuffDocumentsChain`\n",
    "    collapse_documents_chain=combine_documents_chain,\n",
    "    # The maximum number of tokens to group documents into.\n",
    "    token_max=4000,\n",
    ")"
   ]
  },
  {
   "cell_type": "code",
   "execution_count": 8,
   "id": "ffdbdc61-1785-45e8-8d59-7b2a8d57f331",
   "metadata": {},
   "outputs": [],
   "source": [
    "# Combining documents by mapping a chain over them, then combining results\n",
    "map_reduce_chain = MapReduceDocumentsChain(\n",
    "    # Map chain\n",
    "    llm_chain=map_chain,\n",
    "    # Reduce chain\n",
    "    reduce_documents_chain=reduce_documents_chain,\n",
    "    # The variable name in the llm_chain to put the documents in\n",
    "    document_variable_name=\"docs\",\n",
    "    # Return the results of the map steps in the output\n",
    "    return_intermediate_steps=False,\n",
    ")\n",
    "\n",
    "text_splitter = CharacterTextSplitter.from_tiktoken_encoder(\n",
    "    chunk_size=1000, chunk_overlap=0\n",
    ")\n",
    "split_docs = text_splitter.split_documents(docs)"
   ]
  },
  {
   "cell_type": "code",
   "execution_count": 9,
   "id": "2c2fb780-c21b-4a5c-84e4-604c56e673df",
   "metadata": {},
   "outputs": [
    {
     "name": "stdout",
     "output_type": "stream",
     "text": [
      "The main themes that emerge from the provided summaries are:\n",
      "\n",
      "1. Geography and Location: The Algarve is described as the southernmost region of Portugal, located on the coast of the Atlantic Ocean. It is further divided into three regions: Barlavento, Serra Algarvia, and Sotavento. The document also mentions specific cities and destinations within the Algarve.\n",
      "\n",
      "2. Tourism and Beaches: The Algarve is highlighted as Portugal's most popular holiday destination, known for its clean beaches and cool, unpolluted water. It is described as a relatively cheap, safe, and welcoming destination for tourists. The document mentions the presence of over 100 different beaches, with 88 of them designated as blue flag beaches.\n",
      "\n",
      "3. Nature and Outdoor Activities: The Algarve is portrayed as a region rich in nature and diversity. It mentions various natural attractions such as the Monchique and Caldeirão mountains, the Sagres cape, and over 30 hiking trails. The document also mentions the Ria Formosa, a lagoon near Tavira.\n",
      "\n",
      "4. History and Cultural Heritage: The document provides a brief overview of the region's history, starting from the neolithic period and mentioning the influence of Phoenicians, Carthaginians, Romans, Visigoths, Moors, and Portuguese rulers. It highlights the presence of Roman ruins throughout the Algarve, particularly the Milreu ruins near Faro, and the well-preserved Moorish castle in Silves. Prince Henry the Navigator is also mentioned as having a connection to the region.\n",
      "\n",
      "5. Language and Communication: The document briefly mentions that English is spoken at most resorts in the Algarve, indicating the ease of communication for English-speaking tourists.\n",
      "\n",
      "6. Travel and transportation options in the Algarve, including flights, trains, buses, and boats.\n",
      "\n",
      "7. The Mediterranean climate of the region.\n",
      "\n",
      "8. The availability of car rentals and the importance of having proper insurance.\n",
      "\n",
      "9. Information about getting around in the Algarve, including using trains and cars.\n",
      "\n",
      "10. Information about petrol stations and fuel prices in the Algarve.\n",
      "\n",
      "11. Tourism attractions in the Algarve, including historical sites, natural landscapes, and outdoor activities.\n",
      "\n",
      "12. Activities and experiences available in the Algarve, such as mountain biking, jeep safaris, boat trips, dolphin watching, cave tours, kayaking, diving, sailing, windsurfing, and surfing.\n",
      "\n",
      "13. Local products and cuisine, including cork products, locally produced alcoholic drinks, Piri Piri Chicken, fish and seafood dishes, traditional sweets, and Pasteis de Nata.\n",
      "\n",
      "14. Safety and retirement destination, with the Algarve being recognized as a safe destination and a top retirement destination.\n",
      "\n",
      "15. Nearby destinations, suggesting possible day trips or further exploration beyond the Algarve region.\n",
      "\n",
      "16. The official language of Portugal is Portuguese and its importance in various countries.\n",
      "\n",
      "17. Differences between Portuguese and Spanish, including pronunciation and vocabulary.\n",
      "\n",
      "18. The prevalence of English in tourist areas and the language skills of Portuguese people.\n",
      "\n",
      "19. The friendly and helpful nature of Portuguese people towards foreigners.\n",
      "\n",
      "20. The existence of regional languages, such as Mirandese, in certain areas of Portugal.\n",
      "\n",
      "21. The use of subtitles for foreign television programmes in Portugal.\n",
      "\n",
      "22. Surfing in Portugal, including specific locations known for their big waves.\n",
      "\n",
      "23. Events and Festivals in Portugal, including fairs and music festivals.\n",
      "\n",
      "24. Currency and Buying in Portugal, including information about the euro, ATMs, credit cards, haggling, and tipping practices.\n",
      "\n",
      "25. Portuguese cuisine and food specialties, including regional dishes and drinks like Port wine.\n",
      "\n",
      "26. Accommodation options in Portugal.\n",
      "\n",
      "27. Safety and security in Portugal.\n",
      "\n",
      "28. Illicit drug use in Portugal.\n",
      "\n",
      "29. Health and medical facilities in Portugal.\n",
      "\n",
      "30. Cultural etiquette and respect for Portuguese customs.\n",
      "\n",
      "31. Smoking and dress code regulations.\n",
      "\n",
      "32. Religion and social issues in Portugal.\n",
      "\n",
      "33. LGBTQ+ rights and acceptance in Portugal.\n",
      "\n",
      "34. Age of consent laws in Portugal.\n",
      "\n",
      "35. Bullfighting in Portugal.\n",
      "\n",
      "36. Distinction between Portuguese and Spanish languages.\n",
      "\n",
      "37. Major cities and their accessibility by transportation methods.\n",
      "\n",
      "38. Monuments and historical sites in Portugal.\n",
      "\n",
      "39. Beaches and coastal activities in Portugal.\n",
      "\n",
      "40. Nightlife and entertainment options in Portugal.\n",
      "\n",
      "41. Countryside and outdoor activities in Portugal.\n",
      "\n",
      "42. Golfing in Portugal.\n",
      "\n",
      "43. Cycling and adventure sports in Portugal.\n",
      "\n",
      "44. Wildlife observation in Portugal.\n",
      "\n",
      "45. Madeira and Azores Islands as natural destinations.\n",
      "\n",
      "46. Surfing in Portugal.\n",
      "\n",
      "47. Portuguese pastries and desserts.\n",
      "\n",
      "48. Portuguese drinks, including espresso coffee, wine, and Port wine.\n",
      "\n",
      "49. Portuguese handicrafts and regional specialties.\n",
      "\n",
      "50. Portuguese healthcare system and insurance coverage.\n",
      "\n",
      "51. Road behavior and driving in Portugal.\n",
      "\n",
      "52. Driving in Lisbon and Porto.\n",
      "\n",
      "53. Traveling by campervan in Portugal.\n",
      "\n",
      "54. Cycling in Portugal.\n",
      "\n",
      "55. Toll highways in Portugal.\n",
      "\n",
      "56. Drunk driving in Portugal.\n",
      "\n",
      "57. Vegetarian options in Portugal.\n",
      "\n",
      "58. Tips for dining in Portuguese restaurants.\n",
      "\n",
      "59. Grocery shopping in Portugal.\n",
      "\n",
      "60. Safety and security in Portugal.\n",
      "\n",
      "61. Portuguese healthcare system and insurance coverage.\n",
      "\n",
      "62. Cultural etiquette and respect for Portuguese customs.\n",
      "\n",
      "63. Smoking and dress code regulations.\n",
      "\n",
      "64. Religion and social issues in Portugal.\n",
      "\n",
      "65. LGBTQ+ rights and acceptance in Portugal.\n",
      "\n",
      "66. Age of consent laws in Portugal.\n",
      "\n",
      "67. Bullfighting in Portugal.\n",
      "\n",
      "68. Distinction between Portuguese and Spanish languages.\n",
      "\n",
      "69. Portuguese cuisine and food specialties.\n",
      "\n",
      "70. Portuguese drinks.\n",
      "\n",
      "71. Sleep/accommodation in Portugal.\n",
      "\n",
      "72. Category:Portugal.\n",
      "\n",
      "73. WikiPedia:Portugal.\n",
      "\n",
      "74. World66:europe/portugal.\n",
      "\n",
      "75. Retrieved from \"https://wikitravel.org/wiki/en/index.php?title=Portugal&oldid=2751567\".\n"
     ]
    }
   ],
   "source": [
    "print(map_reduce_chain.run(split_docs))"
   ]
  },
  {
   "cell_type": "markdown",
   "id": "3764cf19-4315-4fe1-abfd-f732d69dcc16",
   "metadata": {},
   "source": [
    "## Method 3: `Refine` chain\n",
    "\n",
    "This method loops over the documents and iteratively refines the answer to the summarization query."
   ]
  },
  {
   "cell_type": "code",
   "execution_count": 10,
   "id": "4e7f7246-a45a-430b-a063-317189894f96",
   "metadata": {},
   "outputs": [
    {
     "data": {
      "text/plain": [
       "\"Portugal, located on the south-western corner of Europe, is known for its pristine beaches and is often considered the surfing capital of Europe. The country offers a range of surfing spots, including Nazare, Peniche, Sagres, and Espinho. However, surfing during the winter months can be challenging due to the powerful Atlantic swell. Portugal also hosts various fairs and music festivals, particularly during the summer months. The country uses the euro as its currency, and ATMs accepting international cards can be found throughout. Credit cards are widely accepted, but some smaller establishments may only accept Portuguese cards. Haggling is possible in smaller shops, and tipping in restaurants is optional. Visitors can find a variety of souvenirs to buy, including cork products and locally produced alcoholic drinks. Portugal also has a thriving fashion industry, with independent designers such as Fátima Lopes and Maria Gambina. Handicrafts, including handmade leather goods and glass items, can be found at popular tourist places or at fairs and popular parties in small towns. Portuguese cuisine is diverse and includes seafood specialties such as bacalhau (salt cod) and various fish dishes. Rice-based specialties and grilled meats are also popular. Vegetarians may have a tough time finding options in traditional Portuguese restaurants, but there are restaurants serving international cuisines in most cities. Portuguese grocery stores are well-stocked with vegetarian options. Portugal is famous for its wide variety of pastries, with the pastéis de nata being a must-try. The country also offers a range of other sweet desserts and cakes. When travelling in Portugal, the drink of choice is wine, with red wine being the favorite among locals. Port wine, a fortified wine, is famous in Porto and can only be named as such if the grapes are grown in the Douro valley and the wine is brewed in Porto. Portugal also offers other wines such as Vinho Verde, a light and refreshing wine, and white port, which can be served as an aperitif. In terms of accommodation, Portugal has a wide range of options including youth hostels, camping places, hotels, residencials, Pousadas de Portugal, serviced apartments, and Casas de Campo. It is important to stay safe while visiting Portugal, as while it is generally a safe country, there are areas of Lisbon and Porto that should be avoided, and pickpockets tend to target tourists. It is also worth noting that drug possession for personal use is decriminalized in Portugal, but drug trafficking is still prosecuted as a criminal offense. In terms of healthcare, major cities in Portugal have well-served medical and emergency facilities, while smaller towns may have smaller hospitals or health centers. It is recommended to drink bottled or spring water, although the network's water is safe to drink. Citizens of the European Union are covered by Portugal's National Healthcare System as long as they carry the free European Health Insurance Card (EHIC), obtainable from their own national healthcare authority. Private insurance may also be used in private hospitals with emergency departments, which nowadays are present in almost all major cities. Portuguese people are generally happy to help tourists, and making an effort to speak some Portuguese can go a long way. Smoking in public enclosed places is not allowed and is subject to a fine. It is also important to dress appropriately when visiting churches or religious monuments. Portugal is a gay-friendly country, particularly in larger cities like Lisbon and Porto, but public display of affection between gay couples may be seen as inappropriate in rural areas. Bullfighting is still practiced in some cities in Portugal, but not all Portuguese people support or like it. The Portuguese language is distinct from Spanish.\""
      ]
     },
     "execution_count": 10,
     "metadata": {},
     "output_type": "execute_result"
    }
   ],
   "source": [
    "from langchain.chains.summarize import load_summarize_chain\n",
    "chain = load_summarize_chain(llm, chain_type=\"refine\")\n",
    "chain.run(split_docs)"
   ]
  },
  {
   "cell_type": "code",
   "execution_count": 11,
   "id": "6f735521-8c5c-4edf-b90c-07d71de4cd5d",
   "metadata": {},
   "outputs": [],
   "source": [
    "prompt_template = \"\"\"Write a concise summary of the following:\n",
    "{text}\n",
    "CONCISE SUMMARY:\"\"\"\n",
    "prompt = PromptTemplate.from_template(prompt_template)\n",
    "\n",
    "refine_template = (\n",
    "    \"Your job is to produce a final summary\\n\"\n",
    "    \"We have provided an existing summary up to a certain point: {existing_answer}\\n\"\n",
    "    \"We have the opportunity to refine the existing summary\"\n",
    "    \"(only if needed) with some more context below.\\n\"\n",
    "    \"------------\\n\"\n",
    "    \"{text}\\n\"\n",
    "    \"------------\\n\"\n",
    "    \"Given the new context, refine the original summary in Czech\"\n",
    "    \"If the context isn't useful, return the original summary.\"\n",
    ")\n",
    "refine_prompt = PromptTemplate.from_template(refine_template)\n",
    "chain = load_summarize_chain(\n",
    "    llm=llm,\n",
    "    chain_type=\"refine\",\n",
    "    question_prompt=prompt,\n",
    "    refine_prompt=refine_prompt,\n",
    "    return_intermediate_steps=True,\n",
    "    input_key=\"input_documents\",\n",
    "    output_key=\"output_text\",\n",
    ")\n",
    "result = chain({\"input_documents\": split_docs}, return_only_outputs=True)"
   ]
  },
  {
   "cell_type": "code",
   "execution_count": 12,
   "id": "cc469630-8e2d-4869-8166-662330f8d22a",
   "metadata": {},
   "outputs": [
    {
     "name": "stdout",
     "output_type": "stream",
     "text": [
      "Algarve je nejjižnější region Portugalska, známý svými čistými plážemi a dostupnými cenami. Je to oblíbená turistická destinace s více než 100 různými plážemi, mnoha turistickými stezkami a různými kulturními atrakcemi. Region má bohatou historii s vlivy Féničanů, Římanů, Maurů a Portugalců. Významnou roli ve výzkumu a objevování regionu sehrál princ Jindřich Mořeplavec. V roce 1755 postihlo Algarve obrovské zemětřesení a následná tsunami, která zpustošila pobřežní oblasti. Poškození nebylo omezeno pouze na Algarve, britské námořní zprávy z té doby uvádějí příchod obrovské vlny do přístavu Lisabonu. Poškození Lisabonu bylo téměř úplné a po obrovských politických turbulencích byl zodpovědný za obnovu města markýz z Pombalu, tehdejší premiér. Algarve nabízí také mnoho dalších zajímavých míst k návštěvě, jako je historické město Lagos, Monchique Mountains s krásnými výhledy a Silves s červeným kamenným hradem. Region je také známý svou bohatou nabídkou aktivit, jako je horské cyklistiky, jeep safari, plavby lodí podél pobřeží, pozorování divokých delfínů a potápění. Algarve je také známá svými tradičními jídly, jako je piri piri kuře a čerstvé ryby a mořské plody. Portugal je země na jihozápadě Evropy, která sdílí Iberský poloostrov se Španělskem. Má bohatou kulturu, živé města a krásnou krajinu. Portugal se stal jednou z nejlepších hodnotových destinací na kontinentu díky svému rozmanitému krajinářskému charakteru a investicím do golfové infrastruktury. Je také oblíbeným místem pro surfování a nabízí nádherné pláže. Portugal je nejstarší zemí v Evropě s nezměněnými hranicemi a hrál důležitou roli ve světové historii. Má teplé středomořské klima s mírnými zimami a horkými léty. Portugal je regulován západoevropským časovým pásmem (WET), stejným časem jako ve Spojeném království a Irsku. Azorské ostrovy jsou o hodinu zpět. American Airlines nabízí lety do Lisabonu přes Philadelphia, SATA International/Azores Airlines z Bostonu, Oaklandu a Providence na Azory s pokračováním na pevninskou část, TAP Portugal z Newarku, Miami, Chicaga, New Yorku a Bostonu a United z Newarku a Washingtonu. United nedávno začal létat z Newarku do Porta denně. Portugalsky je oficiálním jazykem Portugalska a je jedním z největších jazyků světa s přibližně 240 miliony rodilými mluvčími. Je také důležitým jazykem v Brazílii, Angole, Mosambiku, Kapverdách, Svatém Tomáši a Princově ostrově, Guinea-Bissau, Východním Timoru a Macau. Portugalský je románský jazyk, který je vzájemně srozumitelný se španělštinou, ale není totožný. Portugalci jsou hrdí na svůj jazyk a nejsou příliš nadšeni, když cizinci z nešpanělsky mluvících zemí mluví španělsky při cestování v Portugalsku. Portugalská výslovnost se také liší od brazilské. Angličtina je rozšířena v turistických oblastech, ale není všudypřítomná. Portugalská mládež se učí angličtinu ve škole a je také vystavena americkým a anglickým filmům a televizním pořadům s původním anglickým zvukovým stopem a portugalskými titulky, takže většina mladých lidí má alespoň základní znalost angličtiny. Lisbon, Sintra a Porto jsou nejlepšími místy k návštěvě, pokud máte rádi nádherné památky a úžasné výhledy. Ale nezapomeňte také na Viana do Castelo, Braga, Guimarães, Coimbra, Tomar, Aveiro. Portugalsko má také několik nezávislých módních návrhářů, jako je Fátima Lopes a Maria Gambina, kteří nabízejí své výrobky v Lisabonu. Kromě toho je v Portugalsku možné zakoupit různé výrobky, jako jsou ručně vyráběné kabelky, hračky, skleněné předměty a dekorace. Vzhledem k občanům Evropské unie jsou pokryti portugalskými zdravotními pojišťovnami. Portugalsko je zemí s bohatou historií, krásnou přírodou a přátelskými lidmi, což ho činí skvělým místem k návštěvě.\n"
     ]
    }
   ],
   "source": [
    "print(result[\"output_text\"])"
   ]
  },
  {
   "cell_type": "code",
   "execution_count": null,
   "id": "840ed1c4-9598-45ed-a712-66cd93d8c237",
   "metadata": {},
   "outputs": [],
   "source": []
  }
 ],
 "metadata": {
  "kernelspec": {
   "display_name": "Python 3 (ipykernel)",
   "language": "python",
   "name": "python3"
  },
  "language_info": {
   "codemirror_mode": {
    "name": "ipython",
    "version": 3
   },
   "file_extension": ".py",
   "mimetype": "text/x-python",
   "name": "python",
   "nbconvert_exporter": "python",
   "pygments_lexer": "ipython3",
   "version": "3.10.4"
  }
 },
 "nbformat": 4,
 "nbformat_minor": 5
}
